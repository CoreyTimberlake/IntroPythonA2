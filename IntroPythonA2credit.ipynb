{
  "nbformat": 4,
  "nbformat_minor": 0,
  "metadata": {
    "colab": {
      "provenance": [],
      "collapsed_sections": []
    },
    "kernelspec": {
      "name": "python3",
      "display_name": "Python 3"
    },
    "language_info": {
      "name": "python"
    }
  },
  "cells": [
    {
      "cell_type": "code",
      "execution_count": 4,
      "metadata": {
        "colab": {
          "base_uri": "https://localhost:8080/"
        },
        "id": "SzeslMTm-1VR",
        "outputId": "ff3604c8-3992-47c8-f55f-1c88d5bfc5da"
      },
      "outputs": [
        {
          "output_type": "stream",
          "name": "stdout",
          "text": [
            "DTSC 520\n",
            "DTSC 550\n",
            "DTSC 575\n",
            "DTSC 600\n",
            "DTSC 650\n"
          ]
        }
      ],
      "source": [
        "Q1 = ('Data Science for all!')\n",
        "def Q2():\n",
        "  for y in Q1:\n",
        "    print(y)\n",
        "  return\n",
        "\n",
        "\n",
        "def Q3():\n",
        "  for f in Q1:\n",
        "    print(\"A\")\n",
        "\n",
        "Q4 = [\"DTSC 520\", \"DTSC 550\", \"DTSC 575\", \"DTSC 600\", \"DTSC 650\"]\n",
        "def Q5():\n",
        "  for t in Q4:\n",
        "      print(t)\n",
        "  return\n",
        "\n",
        "\n",
        "def Q6():\n",
        "  number1 = 2\n",
        "  while (number1 < 50):\n",
        "    print(number1)\n",
        "    number1 *= 2\n",
        "  return\n",
        "\n",
        "Q7=[2,3,5,7,11,13,17,19,23,29]\n",
        "def  Q8():\n",
        "    k = 0\n",
        "    for i in Q7: \n",
        "        k = k + i\n",
        "    return (k) \n",
        "\n",
        "\n",
        "def Q9():\n",
        "  counter = 0\n",
        "  number3 = 3\n",
        "  while len(str(number3)) < 20:\n",
        "    number3 **= 2\n",
        "    counter += 1\n",
        "  return counter"
      ]
    }
  ]
}